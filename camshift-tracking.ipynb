{
 "cells": [
  {
   "cell_type": "markdown",
   "metadata": {},
   "source": [
    "# CamShift Tracking"
   ]
  },
  {
   "cell_type": "code",
   "execution_count": 7,
   "metadata": {},
   "outputs": [
    {
     "ename": "IndexError",
     "evalue": "tuple index out of range",
     "output_type": "error",
     "traceback": [
      "\u001b[1;31m---------------------------------------------------------------------------\u001b[0m",
      "\u001b[1;31mIndexError\u001b[0m                                Traceback (most recent call last)",
      "Cell \u001b[1;32mIn[7], line 18\u001b[0m\n\u001b[0;32m     15\u001b[0m khung_khuon_mat \u001b[38;5;241m=\u001b[39m bo_loc_khuon_mat\u001b[38;5;241m.\u001b[39mdetectMultiScale(khung_hinh) \n\u001b[0;32m     17\u001b[0m \u001b[38;5;66;03m# Chuyển danh sách này thành một tuple (x, y, w, h)\u001b[39;00m\n\u001b[1;32m---> 18\u001b[0m (x_khuon_mat, y_khuon_mat, w_khuon_mat, h_khuon_mat) \u001b[38;5;241m=\u001b[39m \u001b[38;5;28mtuple\u001b[39m(khung_khuon_mat[\u001b[38;5;241m0\u001b[39m]) \n\u001b[0;32m     19\u001b[0m cua_so_theo_doi \u001b[38;5;241m=\u001b[39m (x_khuon_mat, y_khuon_mat, w_khuon_mat, h_khuon_mat)\n\u001b[0;32m     20\u001b[0m \u001b[38;5;66;03m# Thiết lập ROI để theo dõi\u001b[39;00m\n",
      "\u001b[1;31mIndexError\u001b[0m: tuple index out of range"
     ]
    }
   ],
   "source": [
    "import numpy as np\n",
    "import cv2 \n",
    "\n",
    "# Bắt video\n",
    "cap = cv2.VideoCapture(0)\n",
    "\n",
    "# Chụp khung hình đầu tiên từ video\n",
    "ret, khung_hinh = cap.read()\n",
    "\n",
    "# Thiết lập cửa sổ theo dõi ban đầu\n",
    "\n",
    "\n",
    "# Trước hết, chúng ta sẽ phát hiện khuôn mặt và sử dụng nó làm hình chữ nhật ban đầu.\n",
    "bo_loc_khuon_mat = cv2.CascadeClassifier('../DATA/haarcascades/haarcascade_frontalface_default.xml')\n",
    "khung_khuon_mat = bo_loc_khuon_mat.detectMultiScale(khung_hinh) \n",
    "\n",
    "# Chuyển danh sách này thành một tuple (x, y, w, h)\n",
    "(x_khuon_mat, y_khuon_mat, w_khuon_mat, h_khuon_mat) = tuple(khung_khuon_mat[0]) \n",
    "cua_so_theo_doi = (x_khuon_mat, y_khuon_mat, w_khuon_mat, h_khuon_mat)\n",
    "# Thiết lập ROI để theo dõi\n",
    "roi = khung_hinh[y_khuon_mat:y_khuon_mat+h_khuon_mat, x_khuon_mat:x_khuon_mat+w_khuon_mat]\n",
    "\n",
    "# Sử dụng ánh xạ màu HSV\n",
    "hsv_roi =  cv2.cvtColor(roi, cv2.COLOR_BGR2HSV)\n",
    "\n",
    "# Tìm histogram để ánh xạ ngược mục tiêu trên mỗi khung hình để tính toán meanshit\n",
    "roi_hist = cv2.calcHist([hsv_roi],[0],None,[180],[0,180])\n",
    "\n",
    "# Chuẩn hóa giá trị mảng histogram với giá trị tối thiểu là 0 và tối đa là 255\n",
    "cv2.normalize(roi_hist,roi_hist,0,255,cv2.NORM_MINMAX)\n",
    "\n",
    "# Thiết lập điều kiện kết thúc, hoặc sau 10 lần lặp hoặc di chuyển ít nhất 1 điểm\n",
    "term_crit = ( cv2.TERM_CRITERIA_EPS | cv2.TERM_CRITERIA_COUNT, 10, 1 )\n",
    "\n",
    "while True:\n",
    "    ret ,khung_hinh = cap.read()\n",
    "    if ret == True:\n",
    "        \n",
    "        # Chuyển đổi khung hình sang không gian màu HSV\n",
    "        hsv = cv2.cvtColor(khung_hinh, cv2.COLOR_BGR2HSV)\n",
    "        \n",
    "        # Tính toán phản chiếu ngược dựa trên histogram_roi đã tạo trước đó\n",
    "        dst = cv2.calcBackProject([hsv],[0],roi_hist,[0,180],1)\n",
    "        \n",
    "        #########################################################\n",
    "        #########################################################\n",
    "        ########## CAM SHIFT ####################################\n",
    "        ########################################################\n",
    "        #######################################################\n",
    "        \n",
    "        # Áp dụng Camshift để có được tọa độ mới của hình chữ nhật\n",
    "        ret, cua_so_theo_doi = cv2.CamShift(dst, cua_so_theo_doi, term_crit)\n",
    "        \n",
    "        # Vẽ nó lên ảnh\n",
    "        pts = cv2.boxPoints(ret)\n",
    "        pts = np.int0(pts)\n",
    "        img2 = cv2.polylines(khung_hinh,[pts],True, (0,0,255),5)\n",
    "        cv2.imshow('img2',img2)\n",
    "        \n",
    "        ########################################################\n",
    "        #######################################################\n",
    "        ########################################################\n",
    "        #######################################################\n",
    "        \n",
    "        k = cv2.waitKey(1) & 0xff\n",
    "        if k == 27:\n",
    "            break\n",
    "        \n",
    "    else:\n",
    "        break\n",
    "        \n",
    "cv2.destroyAllWindows()\n",
    "cap.release()\n"
   ]
  }
 ],
 "metadata": {
  "kernelspec": {
   "display_name": "Python 3 (ipykernel)",
   "language": "python",
   "name": "python3"
  },
  "language_info": {
   "codemirror_mode": {
    "name": "ipython",
    "version": 3
   },
   "file_extension": ".py",
   "mimetype": "text/x-python",
   "name": "python",
   "nbconvert_exporter": "python",
   "pygments_lexer": "ipython3",
   "version": "3.11.3"
  }
 },
 "nbformat": 4,
 "nbformat_minor": 2
}
