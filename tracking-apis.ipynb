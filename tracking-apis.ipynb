{
 "cells": [
  {
   "cell_type": "markdown",
   "metadata": {},
   "source": [
    "# Tracking APIs ( Built-in with OpenCV)"
   ]
  },
  {
   "cell_type": "code",
   "execution_count": 1,
   "metadata": {},
   "outputs": [],
   "source": [
    "import cv2"
   ]
  },
  {
   "cell_type": "code",
   "execution_count": 2,
   "metadata": {},
   "outputs": [],
   "source": [
    "def ask_for_tracker():\n",
    "    print(\"Welcome! What Tracker API would you like to use?\")\n",
    "    print(\"Enter 0 for BOOSTING: \")\n",
    "    print(\"Enter 1 for MIL: \")\n",
    "    print(\"Enter 2 for KCF: \")\n",
    "    print(\"Enter 3 for TLD: \")\n",
    "    print(\"Enter 4 for MEDIANFLOW: \")\n",
    "    choice = input(\"Please select your tracker: \")\n",
    "    \n",
    "    if choice == '0':\n",
    "        tracker = cv2.TrackerBoosting_create()\n",
    "    if choice == '1':\n",
    "        tracker = cv2.TrackerMIL_create()\n",
    "    if choice == '2':\n",
    "        tracker = cv2.TrackerKCF_create()\n",
    "    if choice == '3':\n",
    "        tracker = cv2.TrackerTLD_create()\n",
    "    if choice == '4':\n",
    "        tracker = cv2.legacy.TrackerMedianFlow_create()\n",
    "\n",
    "\n",
    "    return tracker\n",
    " "
   ]
  },
  {
   "cell_type": "code",
   "execution_count": 3,
   "metadata": {},
   "outputs": [
    {
     "name": "stdout",
     "output_type": "stream",
     "text": [
      "Welcome! What Tracker API would you like to use?\n",
      "Enter 0 for BOOSTING: \n",
      "Enter 1 for MIL: \n",
      "Enter 2 for KCF: \n",
      "Enter 3 for TLD: \n",
      "Enter 4 for MEDIANFLOW: \n",
      "Please select your tracker: 4\n"
     ]
    }
   ],
   "source": [
    "tracker = ask_for_tracker()"
   ]
  },
  {
   "cell_type": "code",
   "execution_count": 4,
   "metadata": {},
   "outputs": [
    {
     "data": {
      "text/plain": [
       "< cv2.legacy.TrackerMedianFlow 000001EADECEBE50>"
      ]
     },
     "execution_count": 4,
     "metadata": {},
     "output_type": "execute_result"
    }
   ],
   "source": [
    "tracker"
   ]
  },
  {
   "cell_type": "code",
   "execution_count": 5,
   "metadata": {},
   "outputs": [
    {
     "data": {
      "text/plain": [
       "''"
      ]
     },
     "execution_count": 5,
     "metadata": {},
     "output_type": "execute_result"
    }
   ],
   "source": [
    "str(tracker).split()[0][1:]"
   ]
  },
  {
   "cell_type": "code",
   "execution_count": 6,
   "metadata": {},
   "outputs": [],
   "source": [
    "# str(tracker).split()[0][1:]"
   ]
  },
  {
   "cell_type": "code",
   "execution_count": 7,
   "metadata": {},
   "outputs": [
    {
     "name": "stdout",
     "output_type": "stream",
     "text": [
      "Welcome! What Tracker API would you like to use?\n",
      "Enter 0 for BOOSTING: \n",
      "Enter 1 for MIL: \n",
      "Enter 2 for KCF: \n",
      "Enter 3 for TLD: \n",
      "Enter 4 for MEDIANFLOW: \n",
      "Please select your tracker: 4\n"
     ]
    }
   ],
   "source": [
    "# Lấy loại tracker từ người dùng\n",
    "tracker = ask_for_tracker()\n",
    "ten_tracker = str(tracker).split()[0][1:]\n",
    "\n",
    "# Đọc video\n",
    "cap = cv2.VideoCapture(1)\n",
    "\n",
    "# Đọc khung hình đầu tiên.\n",
    "ret, khung_hinh = cap.read()\n",
    "\n",
    "# Hàm đặc biệt cho phép chúng ta vẽ trên khung hình đầu tiên vùng quan tâm (ROI) mong muốn\n",
    "roi = cv2.selectROI(khung_hinh, False)\n",
    "\n",
    "# Khởi tạo tracker bằng khung hình đầu tiên và hộp giới hạn\n",
    "ret = tracker.init(khung_hinh, roi)\n",
    "\n",
    "while True:\n",
    "    # Đọc một khung hình mới\n",
    "    ret, khung_hinh = cap.read()\n",
    "    \n",
    "    # Cập nhật tracker\n",
    "    success, roi = tracker.update(khung_hinh)\n",
    "    \n",
    "    # Biến roi là một tuple gồm 4 số thập phân\n",
    "    # Chúng ta cần từng giá trị và chúng cần phải là số nguyên\n",
    "    (x, y, w, h) = tuple(map(int, roi))\n",
    "    \n",
    "    # Vẽ hình chữ nhật khi Tracker di chuyển\n",
    "    if success:\n",
    "        # Tracker thành công\n",
    "        p1 = (x, y)\n",
    "        p2 = (x + w, y + h)\n",
    "        cv2.rectangle(khung_hinh, p1, p2, (0, 255, 0), 3)\n",
    "    else:\n",
    "        # Tracker không thành công\n",
    "        cv2.putText(khung_hinh, \"Không thể theo dõi!!\", (100, 200), cv2.FONT_HERSHEY_SIMPLEX, 1, (0, 0, 255), 3)\n",
    "\n",
    "    # Hiển thị loại tracker trên khung hình\n",
    "    cv2.putText(khung_hinh, ten_tracker, (20, 400), cv2.FONT_HERSHEY_SIMPLEX, 1, (0, 255, 0), 3);\n",
    "\n",
    "    # Hiển thị kết quả\n",
    "    cv2.imshow(ten_tracker, khung_hinh)\n",
    "\n",
    "    # Thoát nếu bấm phím ESC\n",
    "    k = cv2.waitKey(1) & 0xff\n",
    "    if k == 27:\n",
    "        break\n",
    "\n",
    "cap.release()\n",
    "cv2.destroyAllWindows()\n"
   ]
  },
  {
   "cell_type": "code",
   "execution_count": null,
   "metadata": {},
   "outputs": [],
   "source": []
  },
  {
   "cell_type": "code",
   "execution_count": null,
   "metadata": {},
   "outputs": [],
   "source": []
  }
 ],
 "metadata": {
  "kernelspec": {
   "display_name": "Python 3 (ipykernel)",
   "language": "python",
   "name": "python3"
  },
  "language_info": {
   "codemirror_mode": {
    "name": "ipython",
    "version": 3
   },
   "file_extension": ".py",
   "mimetype": "text/x-python",
   "name": "python",
   "nbconvert_exporter": "python",
   "pygments_lexer": "ipython3",
   "version": "3.11.3"
  }
 },
 "nbformat": 4,
 "nbformat_minor": 2
}
